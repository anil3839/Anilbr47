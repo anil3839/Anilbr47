{
  "nbformat": 4,
  "nbformat_minor": 0,
  "metadata": {
    "colab": {
      "name": "Assignment 1",
      "provenance": [],
      "authorship_tag": "ABX9TyP5VKiOh4MXBZIdfVyafegl",
      "include_colab_link": true
    },
    "kernelspec": {
      "name": "python3",
      "display_name": "Python 3"
    }
  },
  "cells": [
    {
      "cell_type": "markdown",
      "metadata": {
        "id": "view-in-github",
        "colab_type": "text"
      },
      "source": [
        "<a href=\"https://colab.research.google.com/github/anil3839/Anilbr47/blob/master/Assignment_1.ipynb\" target=\"_parent\"><img src=\"https://colab.research.google.com/assets/colab-badge.svg\" alt=\"Open In Colab\"/></a>"
      ]
    },
    {
      "cell_type": "markdown",
      "metadata": {
        "id": "f_05jCjMo05r",
        "colab_type": "text"
      },
      "source": [
        "python program  for a simple calculator"
      ]
    },
    {
      "cell_type": "code",
      "metadata": {
        "id": "6JQC6-Eso76Z",
        "colab_type": "code",
        "colab": {
          "base_uri": "https://localhost:8080/",
          "height": 68
        },
        "outputId": "85938715-dea5-497f-f9ab-9dc1661b79aa"
      },
      "source": [
        " a=int(input('enter a value  of a '))\n",
        " b=int(input('enter a value  of  b'))\n",
        " print(' difference  of a and b:',a+b)"
      ],
      "execution_count": 6,
      "outputs": [
        {
          "output_type": "stream",
          "text": [
            "enter a value  of a 5\n",
            "enter a value  of  b7\n",
            " difference  of a and b: 12\n"
          ],
          "name": "stdout"
        }
      ]
    },
    {
      "cell_type": "code",
      "metadata": {
        "id": "MRxCQsLMp2TL",
        "colab_type": "code",
        "colab": {
          "base_uri": "https://localhost:8080/",
          "height": 68
        },
        "outputId": "8ee4b72d-127f-4ac9-c3af-55011b18c9db"
      },
      "source": [
        " a=int(input('enter a value  of a '))\n",
        " b=int(input('enter a value  of  b'))\n",
        " print(' difference  of a and b:',a-b)"
      ],
      "execution_count": 3,
      "outputs": [
        {
          "output_type": "stream",
          "text": [
            "enter a value  of a 9\n",
            "enter a value  of  b5\n",
            " difference  of a and b: 4\n"
          ],
          "name": "stdout"
        }
      ]
    },
    {
      "cell_type": "code",
      "metadata": {
        "id": "8nyS6T-Rqls2",
        "colab_type": "code",
        "colab": {
          "base_uri": "https://localhost:8080/",
          "height": 68
        },
        "outputId": "de8992aa-a322-4cf4-c0e4-e754906379f0"
      },
      "source": [
        "a=int(input('enter value of a'))\n",
        "b=int(input('enter a value of b'))\n",
        "print('product of a and b:',a*b)"
      ],
      "execution_count": 5,
      "outputs": [
        {
          "output_type": "stream",
          "text": [
            "enter value of a3\n",
            "enter a value of b8\n",
            "product of a and b: 24\n"
          ],
          "name": "stdout"
        }
      ]
    },
    {
      "cell_type": "code",
      "metadata": {
        "id": "Q3xMNekWrT01",
        "colab_type": "code",
        "colab": {
          "base_uri": "https://localhost:8080/",
          "height": 68
        },
        "outputId": "3c18c400-17c8-4aa5-e750-4545e9e307ab"
      },
      "source": [
        "a=int(input('enter a value  of a '))\n",
        "b=int(input('enter a value  of  b'))\n",
        "print('coefficient  of a and b:',a/b)"
      ],
      "execution_count": 7,
      "outputs": [
        {
          "output_type": "stream",
          "text": [
            "enter a value  of a 8\n",
            "enter a value  of  b2\n",
            "coefficient  of a and b: 4.0\n"
          ],
          "name": "stdout"
        }
      ]
    },
    {
      "cell_type": "code",
      "metadata": {
        "id": "Wwip6YaJryJr",
        "colab_type": "code",
        "colab": {
          "base_uri": "https://localhost:8080/",
          "height": 68
        },
        "outputId": "768768e1-4339-4112-b807-dc7217c8070a"
      },
      "source": [
        " a=int(input('enter a value  of a '))\n",
        "b=int(input('enter a value  of  b'))\n",
        "print(' reminder  of a and b:',a%b)"
      ],
      "execution_count": 8,
      "outputs": [
        {
          "output_type": "stream",
          "text": [
            "enter a value  of a 16\n",
            "enter a value  of  b3\n",
            " reminder  of a and b: 1\n"
          ],
          "name": "stdout"
        }
      ]
    },
    {
      "cell_type": "code",
      "metadata": {
        "id": "4Jqu_gLSsB4H",
        "colab_type": "code",
        "colab": {
          "base_uri": "https://localhost:8080/",
          "height": 68
        },
        "outputId": "3f06e288-8498-4e69-bc7c-fede96afe650"
      },
      "source": [
        "a=int(input('enter a value  of a '))\n",
        "b=int(input('enter a value  of  b'))\n",
        "print(' a power b:',a**b)"
      ],
      "execution_count": 11,
      "outputs": [
        {
          "output_type": "stream",
          "text": [
            "enter a value  of a 6\n",
            "enter a value  of  b3\n",
            " a power b: 216\n"
          ],
          "name": "stdout"
        }
      ]
    },
    {
      "cell_type": "code",
      "metadata": {
        "id": "A42XsOQzscsW",
        "colab_type": "code",
        "colab": {
          "base_uri": "https://localhost:8080/",
          "height": 68
        },
        "outputId": "cc1cabe3-e57a-4262-fd7d-9d074955f8df"
      },
      "source": [
        "a=int(input('enter a value  of a '))\n",
        "b=int(input('enter a value  of  b'))\n",
        "print('floor division:',a//b)"
      ],
      "execution_count": 12,
      "outputs": [
        {
          "output_type": "stream",
          "text": [
            "enter a value  of a 4\n",
            "enter a value  of  b9\n",
            "floor division: 0\n"
          ],
          "name": "stdout"
        }
      ]
    },
    {
      "cell_type": "markdown",
      "metadata": {
        "id": "d_Okrmvzsteg",
        "colab_type": "text"
      },
      "source": [
        "python  program  to  calculate  simple  intrest"
      ]
    },
    {
      "cell_type": "code",
      "metadata": {
        "id": "SqOSzKOIs2r2",
        "colab_type": "code",
        "colab": {
          "base_uri": "https://localhost:8080/",
          "height": 86
        },
        "outputId": "b904b669-154e-4f46-9743-37814f4a8b2e"
      },
      "source": [
        "P=int(input('enter a value  of P '))\n",
        "T=int(input('enter a value  of  T'))\n",
        "R=int(input('enter a value of R'))\n",
        "print('simple intrest is:',((P*T*R)/100))"
      ],
      "execution_count": 22,
      "outputs": [
        {
          "output_type": "stream",
          "text": [
            "enter a value  of P 8\n",
            "enter a value  of  T6\n",
            "enter a value of R9\n",
            "simple intrest is: 4.32\n"
          ],
          "name": "stdout"
        }
      ]
    },
    {
      "cell_type": "markdown",
      "metadata": {
        "id": "UCyOOgL_vTFX",
        "colab_type": "text"
      },
      "source": [
        "python  program to calculate area of  circle"
      ]
    },
    {
      "cell_type": "code",
      "metadata": {
        "id": "nGfNUtk0upkM",
        "colab_type": "code",
        "colab": {
          "base_uri": "https://localhost:8080/",
          "height": 71
        },
        "outputId": "cb0256e3-d517-47c7-81fa-bd58d3858f73"
      },
      "source": [
        "r=int(input('enter a value of r'))\n",
        "print('area of a circle is:',(3.14*r*r))"
      ],
      "execution_count": 25,
      "outputs": [
        {
          "output_type": "stream",
          "text": [
            "enter a value of r6\n",
            "area of a circle is: 113.03999999999999\n"
          ],
          "name": "stdout"
        }
      ]
    },
    {
      "cell_type": "markdown",
      "metadata": {
        "id": "OpCsxAIvvYsR",
        "colab_type": "text"
      },
      "source": [
        " python program to calculate area of triangle"
      ]
    },
    {
      "cell_type": "code",
      "metadata": {
        "id": "sH6QORUsvjtH",
        "colab_type": "code",
        "colab": {
          "base_uri": "https://localhost:8080/",
          "height": 34
        },
        "outputId": "e6584710-b96e-4cf0-9a6a-bb5bd5729213"
      },
      "source": [
        "s1=5\n",
        "s2=8\n",
        "s3=4\n",
        "print('area  of triangle is:',((s1*s2*s3)))"
      ],
      "execution_count": 27,
      "outputs": [
        {
          "output_type": "stream",
          "text": [
            "area  of triangle is: 160\n"
          ],
          "name": "stdout"
        }
      ]
    },
    {
      "cell_type": "markdown",
      "metadata": {
        "id": "nbWEJb-Uv7nC",
        "colab_type": "text"
      },
      "source": [
        " python program to convert temperature in Celsius to Fahrenheit"
      ]
    },
    {
      "cell_type": "code",
      "metadata": {
        "id": "mMG1C6-AwJdJ",
        "colab_type": "code",
        "colab": {
          "base_uri": "https://localhost:8080/",
          "height": 34
        },
        "outputId": "7473596c-1eb9-421f-f305-4d2c9a8bd9ff"
      },
      "source": [
        "c=34\n",
        "print('temperaturein Fahrenheitis:',(c*9/5+32))"
      ],
      "execution_count": 28,
      "outputs": [
        {
          "output_type": "stream",
          "text": [
            "temperaturein Fahrenheitis: 93.2\n"
          ],
          "name": "stdout"
        }
      ]
    },
    {
      "cell_type": "markdown",
      "metadata": {
        "id": "iMamrkFxxURw",
        "colab_type": "text"
      },
      "source": [
        "python  program to calculate area of  rectangle"
      ]
    },
    {
      "cell_type": "code",
      "metadata": {
        "id": "vqhoR7nzxY1c",
        "colab_type": "code",
        "colab": {
          "base_uri": "https://localhost:8080/",
          "height": 34
        },
        "outputId": "02433dad-b203-4bfa-c6cf-71ae029199b8"
      },
      "source": [
        "l=6\n",
        "b=8\n",
        "print('area  of rectangle  is:',(l*b))"
      ],
      "execution_count": 29,
      "outputs": [
        {
          "output_type": "stream",
          "text": [
            "area  of rectangle  is: 48\n"
          ],
          "name": "stdout"
        }
      ]
    },
    {
      "cell_type": "markdown",
      "metadata": {
        "id": "XPWD6P9oxrav",
        "colab_type": "text"
      },
      "source": [
        " python program to calculate perimeter of  square"
      ]
    },
    {
      "cell_type": "code",
      "metadata": {
        "id": "xLwofWOzx02D",
        "colab_type": "code",
        "colab": {
          "base_uri": "https://localhost:8080/",
          "height": 34
        },
        "outputId": "4959d713-a571-4f8b-de5c-a16dc1f904e7"
      },
      "source": [
        "side=4\n",
        "print('perimeter of square is:',(4*side))"
      ],
      "execution_count": 30,
      "outputs": [
        {
          "output_type": "stream",
          "text": [
            "perimeter of square is: 16\n"
          ],
          "name": "stdout"
        }
      ]
    },
    {
      "cell_type": "markdown",
      "metadata": {
        "id": "fpibrSH2yInU",
        "colab_type": "text"
      },
      "source": [
        "python  program to calculate circumference of circle"
      ]
    },
    {
      "cell_type": "code",
      "metadata": {
        "id": "rWerMGhfyNZu",
        "colab_type": "code",
        "colab": {
          "base_uri": "https://localhost:8080/",
          "height": 34
        },
        "outputId": "14ff85e6-c4e3-4c30-f0bf-8acc25040819"
      },
      "source": [
        "r=4\n",
        "print('circumference  of a  circle  is:',(2*3.14*r))"
      ],
      "execution_count": 31,
      "outputs": [
        {
          "output_type": "stream",
          "text": [
            "circumference  of a  circle  is: 25.12\n"
          ],
          "name": "stdout"
        }
      ]
    },
    {
      "cell_type": "markdown",
      "metadata": {
        "id": "8T6N6DBoyf6P",
        "colab_type": "text"
      },
      "source": [
        " python program to  swap  two  numbers"
      ]
    },
    {
      "cell_type": "code",
      "metadata": {
        "id": "3tCZ2RUfyq2U",
        "colab_type": "code",
        "colab": {
          "base_uri": "https://localhost:8080/",
          "height": 51
        },
        "outputId": "01b87132-aad3-4fb2-b42a-c79217bd7f8a"
      },
      "source": [
        "a=3\n",
        "b=8\n",
        "a=a+b\n",
        "b=a-b\n",
        "a=a-b\n",
        "print('value of a after swapping:',a)\n",
        "print('value of b after swapping:',b)"
      ],
      "execution_count": 32,
      "outputs": [
        {
          "output_type": "stream",
          "text": [
            "value of a after swapping: 8\n",
            "value of b after swapping: 3\n"
          ],
          "name": "stdout"
        }
      ]
    }
  ]
}